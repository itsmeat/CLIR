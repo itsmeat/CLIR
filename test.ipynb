{
 "cells": [
  {
   "cell_type": "code",
   "execution_count": 4,
   "metadata": {
    "collapsed": false
   },
   "outputs": [],
   "source": [
    "import dill as pickle\n",
    "from nltk.translate import IBMModel1\n",
    "from nltk import word_tokenize\n",
    "from nltk.translate import AlignedSent\n",
    "\n",
    "en_file = '../parallel_corpus_IR2/english.txt'\n",
    "fr_file = '../parallel_corpus_IR2/french.txt'\n",
    "bitexts = []\n",
    "samples = 1000"
   ]
  },
  {
   "cell_type": "code",
   "execution_count": 2,
   "metadata": {
    "collapsed": true
   },
   "outputs": [],
   "source": [
    "def read_my_lines(reader, no_of_docs):\n",
    "\n",
    "    for line_number, line in enumerate(reader, 1):\n",
    "        yield line_number, row"
   ]
  },
  {
   "cell_type": "code",
   "execution_count": 5,
   "metadata": {
    "collapsed": false
   },
   "outputs": [
    {
     "name": "stdout",
     "output_type": "stream",
     "text": [
      "Total Samples:  1000\n"
     ]
    }
   ],
   "source": [
    "en = open(en_file, 'r')\n",
    "fr = open(fr_file, 'r')\n",
    "c = 0\n",
    "while True :\n",
    "    en_text = en.readline()\n",
    "    fr_text = fr.readline()\n",
    "    if (\"\" == en_text):\n",
    "        break\n",
    "    en_tok = word_tokenize(en_text)\n",
    "    fr_tok = word_tokenize(fr_text)\n",
    "    bitexts.append(AlignedSent(en_tok, fr_tok))\n",
    "    c += 1\n",
    "    if(samples == c):\n",
    "        break\n",
    "print(\"Total Samples: \", c)"
   ]
  },
  {
   "cell_type": "code",
   "execution_count": 6,
   "metadata": {
    "collapsed": false
   },
   "outputs": [
    {
     "name": "stdout",
     "output_type": "stream",
     "text": [
      "['Resumption', 'of', 'the', 'session']\n",
      "['Reprise', 'de', 'la', 'session']\n",
      "\n"
     ]
    }
   ],
   "source": [
    "test_sentence = bitexts[0]\n",
    "print(test_sentence.words)\n",
    "print(test_sentence.mots)\n",
    "print(test_sentence.alignment)"
   ]
  },
  {
   "cell_type": "code",
   "execution_count": 7,
   "metadata": {
    "collapsed": false
   },
   "outputs": [],
   "source": [
    "ibm = IBMModel1(bitexts, 20)\n",
    "with open('model1.pk', 'wb') as fout:     \n",
    "        pickle.dump(ibm, fout)"
   ]
  },
  {
   "cell_type": "code",
   "execution_count": 10,
   "metadata": {
    "collapsed": false
   },
   "outputs": [
    {
     "data": {
      "text/plain": [
       "defaultdict(<function nltk.translate.ibm1.IBMModel1.prob_all_alignments.<locals>.<lambda>>,\n",
       "            {'Reprise': 4e-12,\n",
       "             'de': 0.0010925976509150504,\n",
       "             'la': 4e-12,\n",
       "             'session': 0.0008313702663210247})"
      ]
     },
     "execution_count": 10,
     "metadata": {},
     "output_type": "execute_result"
    }
   ],
   "source": [
    "with open('model1.pk', 'rb') as fin:\n",
    "    ibm = pickle.load(fin)\n",
    "# ibm.align(bitexts[0])\n",
    "# bitexts[0].alignment\n",
    "ibm.prob_all_alignments(bitexts[0].words, bitexts[0].mots)"
   ]
  },
  {
   "cell_type": "code",
   "execution_count": 9,
   "metadata": {
    "collapsed": false
   },
   "outputs": [],
   "source": [
    "# bitext = []\n",
    "# bitext.append(AlignedSent(['klein', 'ist', 'das', 'haus'], ['the', 'house', 'is', 'small']))\n",
    "# bitext.append(AlignedSent(['das', 'haus', 'ist', 'ja', 'groß'], ['the', 'house', 'is', 'big']))\n",
    "# bitext.append(AlignedSent(['das', 'buch', 'ist', 'ja', 'klein'], ['the', 'book', 'is', 'small']))\n",
    "# bitext.append(AlignedSent(['das', 'haus'], ['the', 'house']))\n",
    "# bitext.append(AlignedSent(['das', 'buch'], ['the', 'book']))\n",
    "# bitext.append(AlignedSent(['ein', 'buch'], ['a', 'book']))\n",
    "\n",
    "# ibm1 = IBMModel1(bitext, 5)\n",
    "\n",
    "# print('{0:.3f}'.format(ibm1.translation_table['buch']['book']))\n",
    "# print('{0:.3f}'.format(ibm1.translation_table['das']['book']))\n",
    "# print('{0:.3f}'.format(ibm1.translation_table['buch'][None]))\n",
    "# print('{0:.3f}'.format(ibm1.translation_table['ja'][None]))\n",
    "# test_sentence = bitext[2]\n",
    "# print(test_sentence.words)\n",
    "# print(test_sentence.mots)\n",
    "# print(test_sentence.alignment)"
   ]
  }
 ],
 "metadata": {
  "kernelspec": {
   "display_name": "venv1",
   "language": "python",
   "name": "venv1"
  },
  "language_info": {
   "codemirror_mode": {
    "name": "ipython",
    "version": 3
   },
   "file_extension": ".py",
   "mimetype": "text/x-python",
   "name": "python",
   "nbconvert_exporter": "python",
   "pygments_lexer": "ipython3",
   "version": "3.5.2"
  }
 },
 "nbformat": 4,
 "nbformat_minor": 1
}
